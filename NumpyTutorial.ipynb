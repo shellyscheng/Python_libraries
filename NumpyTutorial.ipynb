{
 "cells": [
  {
   "cell_type": "markdown",
   "source": [
    "# NumPy Tutorial"
   ],
   "metadata": {}
  },
  {
   "cell_type": "markdown",
   "source": [
    "Shouvik Mani <br>\n",
    "September 24, 2021 <br>\n",
    "COMS 4995: Applied Machine Learning, Columbia University"
   ],
   "metadata": {}
  },
  {
   "cell_type": "code",
   "execution_count": 1,
   "source": [
    "import numpy as np"
   ],
   "outputs": [],
   "metadata": {
    "ExecuteTime": {
     "end_time": "2021-09-24T04:15:42.990538Z",
     "start_time": "2021-09-24T04:15:42.474347Z"
    }
   }
  },
  {
   "cell_type": "markdown",
   "source": [
    "### 1. Creating Vectors and Matrices"
   ],
   "metadata": {}
  },
  {
   "cell_type": "markdown",
   "source": [
    "Create a vector."
   ],
   "metadata": {}
  },
  {
   "cell_type": "code",
   "execution_count": 2,
   "source": [
    "x = np.array([1, 2, 3, 4, 5])\n",
    "\n",
    "print(x.shape)\n",
    "print(x)"
   ],
   "outputs": [
    {
     "output_type": "stream",
     "name": "stdout",
     "text": [
      "(5,)\n",
      "[1 2 3 4 5]\n"
     ]
    }
   ],
   "metadata": {
    "ExecuteTime": {
     "end_time": "2021-09-24T04:15:44.367421Z",
     "start_time": "2021-09-24T04:15:44.362182Z"
    }
   }
  },
  {
   "cell_type": "markdown",
   "source": [
    "Create a matrix."
   ],
   "metadata": {}
  },
  {
   "cell_type": "code",
   "execution_count": 3,
   "source": [
    "A = np.array([[2, 1, 4], \n",
    "              [5, 0, 1], \n",
    "              [3, 2, 1]])\n",
    "              \n",
    "print(A.shape)\n",
    "print(A)"
   ],
   "outputs": [
    {
     "output_type": "stream",
     "name": "stdout",
     "text": [
      "(3, 3)\n",
      "[[2 1 4]\n",
      " [5 0 1]\n",
      " [3 2 1]]\n"
     ]
    }
   ],
   "metadata": {
    "ExecuteTime": {
     "end_time": "2021-09-24T04:15:45.320006Z",
     "start_time": "2021-09-24T04:15:45.314979Z"
    }
   }
  },
  {
   "cell_type": "markdown",
   "source": [
    "Special matrices"
   ],
   "metadata": {}
  },
  {
   "cell_type": "code",
   "execution_count": 4,
   "source": [
    "np.zeros(shape=(3, 3))"
   ],
   "outputs": [
    {
     "output_type": "execute_result",
     "data": {
      "text/plain": [
       "array([[0., 0., 0.],\n",
       "       [0., 0., 0.],\n",
       "       [0., 0., 0.]])"
      ]
     },
     "metadata": {},
     "execution_count": 4
    }
   ],
   "metadata": {
    "ExecuteTime": {
     "end_time": "2021-09-24T04:15:46.175711Z",
     "start_time": "2021-09-24T04:15:46.163403Z"
    }
   }
  },
  {
   "cell_type": "code",
   "execution_count": 5,
   "source": [
    "np.ones(shape=(4, 4))"
   ],
   "outputs": [
    {
     "output_type": "execute_result",
     "data": {
      "text/plain": [
       "array([[1., 1., 1., 1.],\n",
       "       [1., 1., 1., 1.],\n",
       "       [1., 1., 1., 1.],\n",
       "       [1., 1., 1., 1.]])"
      ]
     },
     "metadata": {},
     "execution_count": 5
    }
   ],
   "metadata": {
    "ExecuteTime": {
     "end_time": "2021-09-24T04:15:46.712523Z",
     "start_time": "2021-09-24T04:15:46.707135Z"
    }
   }
  },
  {
   "cell_type": "code",
   "execution_count": 6,
   "source": [
    "# Identity matrix\n",
    "np.eye(N=3)"
   ],
   "outputs": [
    {
     "output_type": "execute_result",
     "data": {
      "text/plain": [
       "array([[1., 0., 0.],\n",
       "       [0., 1., 0.],\n",
       "       [0., 0., 1.]])"
      ]
     },
     "metadata": {},
     "execution_count": 6
    }
   ],
   "metadata": {
    "ExecuteTime": {
     "end_time": "2021-09-24T04:15:47.184120Z",
     "start_time": "2021-09-24T04:15:47.178867Z"
    }
   }
  },
  {
   "cell_type": "markdown",
   "source": [
    "Evenly spaced numbers"
   ],
   "metadata": {}
  },
  {
   "cell_type": "code",
   "execution_count": 7,
   "source": [
    "# 11 numbers between 0 and 1\n",
    "x = np.linspace(start=0, stop=1, num=11)\n",
    "\n",
    "print(x)"
   ],
   "outputs": [
    {
     "output_type": "stream",
     "name": "stdout",
     "text": [
      "[0.  0.1 0.2 0.3 0.4 0.5 0.6 0.7 0.8 0.9 1. ]\n"
     ]
    }
   ],
   "metadata": {
    "ExecuteTime": {
     "end_time": "2021-09-24T04:15:48.337535Z",
     "start_time": "2021-09-24T04:15:48.332238Z"
    }
   }
  },
  {
   "cell_type": "markdown",
   "source": [
    "Sample random numbers from a Normal distribution. There are many more distributions you can choose from (see documentation for np.random)."
   ],
   "metadata": {}
  },
  {
   "cell_type": "code",
   "execution_count": 8,
   "source": [
    "# Seed the random number generator (important for reproducible results)\n",
    "np.random.seed(0)\n",
    "x = np.random.normal(loc=0, scale=5, size=5)\n",
    "\n",
    "print(x)"
   ],
   "outputs": [
    {
     "output_type": "stream",
     "name": "stdout",
     "text": [
      "[ 8.82026173  2.00078604  4.89368992 11.204466    9.33778995]\n"
     ]
    }
   ],
   "metadata": {
    "ExecuteTime": {
     "end_time": "2021-09-24T04:15:49.249981Z",
     "start_time": "2021-09-24T04:15:49.244253Z"
    }
   }
  },
  {
   "cell_type": "markdown",
   "source": [
    "### 2. Indexing, Slicing, and Iterating"
   ],
   "metadata": {}
  },
  {
   "cell_type": "code",
   "execution_count": 9,
   "source": [
    "A = np.array([[2, 1, 4], \n",
    "              [5, 0, 1], \n",
    "              [3, 2, 1]])"
   ],
   "outputs": [],
   "metadata": {
    "ExecuteTime": {
     "end_time": "2021-09-24T04:15:50.304132Z",
     "start_time": "2021-09-24T04:15:50.299932Z"
    }
   }
  },
  {
   "cell_type": "markdown",
   "source": [
    "Access an element by index"
   ],
   "metadata": {}
  },
  {
   "cell_type": "code",
   "execution_count": 10,
   "source": [
    "A[2]   # First index is the row (2)"
   ],
   "outputs": [
    {
     "output_type": "execute_result",
     "data": {
      "text/plain": [
       "array([3, 2, 1])"
      ]
     },
     "metadata": {},
     "execution_count": 10
    }
   ],
   "metadata": {
    "ExecuteTime": {
     "end_time": "2021-09-24T04:15:51.063955Z",
     "start_time": "2021-09-24T04:15:51.058949Z"
    }
   }
  },
  {
   "cell_type": "code",
   "execution_count": 11,
   "source": [
    "A[2, 2]   # First index is row, second index is col"
   ],
   "outputs": [
    {
     "output_type": "execute_result",
     "data": {
      "text/plain": [
       "1"
      ]
     },
     "metadata": {},
     "execution_count": 11
    }
   ],
   "metadata": {
    "ExecuteTime": {
     "end_time": "2021-09-24T04:15:51.385101Z",
     "start_time": "2021-09-24T04:15:51.379939Z"
    }
   }
  },
  {
   "cell_type": "markdown",
   "source": [
    "Set a value at an index"
   ],
   "metadata": {}
  },
  {
   "cell_type": "code",
   "execution_count": 12,
   "source": [
    "A[2, 2] = -1\n",
    "print(A)"
   ],
   "outputs": [
    {
     "output_type": "stream",
     "name": "stdout",
     "text": [
      "[[ 2  1  4]\n",
      " [ 5  0  1]\n",
      " [ 3  2 -1]]\n"
     ]
    }
   ],
   "metadata": {
    "ExecuteTime": {
     "end_time": "2021-09-24T04:15:51.846535Z",
     "start_time": "2021-09-24T04:15:51.842207Z"
    }
   }
  },
  {
   "cell_type": "markdown",
   "source": [
    "Slicing"
   ],
   "metadata": {}
  },
  {
   "cell_type": "code",
   "execution_count": 13,
   "source": [
    "# Slice rows 1 through 2, cols 1 through 2\n",
    "A[1:, 1:]"
   ],
   "outputs": [
    {
     "output_type": "execute_result",
     "data": {
      "text/plain": [
       "array([[ 0,  1],\n",
       "       [ 2, -1]])"
      ]
     },
     "metadata": {},
     "execution_count": 13
    }
   ],
   "metadata": {
    "ExecuteTime": {
     "end_time": "2021-09-24T04:15:52.548270Z",
     "start_time": "2021-09-24T04:15:52.542753Z"
    }
   }
  },
  {
   "cell_type": "code",
   "execution_count": 14,
   "source": [
    "# Slice all rows, col 0\n",
    "A[:, 0]"
   ],
   "outputs": [
    {
     "output_type": "execute_result",
     "data": {
      "text/plain": [
       "array([2, 5, 3])"
      ]
     },
     "metadata": {},
     "execution_count": 14
    }
   ],
   "metadata": {
    "ExecuteTime": {
     "end_time": "2021-09-24T04:15:52.874892Z",
     "start_time": "2021-09-24T04:15:52.869618Z"
    }
   }
  },
  {
   "cell_type": "markdown",
   "source": [
    "Iterating over a matrix"
   ],
   "metadata": {}
  },
  {
   "cell_type": "code",
   "execution_count": 15,
   "source": [
    "# Iterating over rows\n",
    "for row in A:\n",
    "    print(row)"
   ],
   "outputs": [
    {
     "output_type": "stream",
     "name": "stdout",
     "text": [
      "[2 1 4]\n",
      "[5 0 1]\n",
      "[ 3  2 -1]\n"
     ]
    }
   ],
   "metadata": {
    "ExecuteTime": {
     "end_time": "2021-09-24T04:15:53.664581Z",
     "start_time": "2021-09-24T04:15:53.659291Z"
    }
   }
  },
  {
   "cell_type": "code",
   "execution_count": 16,
   "source": [
    "sum = 0\n",
    "\n",
    "# Iterating over rows and cols\n",
    "for row in A:\n",
    "    for elem in row:\n",
    "        sum += elem\n",
    "        \n",
    "print(sum)"
   ],
   "outputs": [
    {
     "output_type": "stream",
     "name": "stdout",
     "text": [
      "17\n"
     ]
    }
   ],
   "metadata": {
    "ExecuteTime": {
     "end_time": "2021-09-24T04:15:54.078672Z",
     "start_time": "2021-09-24T04:15:54.073598Z"
    }
   }
  },
  {
   "cell_type": "markdown",
   "source": [
    "### 3. Basic Vector and Matrix Operations"
   ],
   "metadata": {}
  },
  {
   "cell_type": "markdown",
   "source": [
    "Scalar multiplication and vector addition"
   ],
   "metadata": {}
  },
  {
   "cell_type": "code",
   "execution_count": 17,
   "source": [
    "x = np.array([1, 2, 3, 4, 5])\n",
    "y = np.array([1, 0, 1, 0, 1])\n",
    "\n",
    "print(2 * x + y)"
   ],
   "outputs": [
    {
     "output_type": "stream",
     "name": "stdout",
     "text": [
      "[ 3  4  7  8 11]\n"
     ]
    }
   ],
   "metadata": {
    "ExecuteTime": {
     "end_time": "2021-09-24T04:15:55.594877Z",
     "start_time": "2021-09-24T04:15:55.588848Z"
    }
   }
  },
  {
   "cell_type": "markdown",
   "source": [
    "Dot product"
   ],
   "metadata": {}
  },
  {
   "cell_type": "code",
   "execution_count": 18,
   "source": [
    "x = np.array([1, 2, 3, 4, 5])\n",
    "y = np.array([1, 0, 1, 0, 1])\n",
    "\n",
    "# Two different ways!\n",
    "print(x @ y)\n",
    "print(x.dot(y))"
   ],
   "outputs": [
    {
     "output_type": "stream",
     "name": "stdout",
     "text": [
      "9\n",
      "9\n"
     ]
    }
   ],
   "metadata": {
    "ExecuteTime": {
     "end_time": "2021-09-24T04:15:56.200547Z",
     "start_time": "2021-09-24T04:15:56.194852Z"
    }
   }
  },
  {
   "cell_type": "markdown",
   "source": [
    "Vector norm"
   ],
   "metadata": {}
  },
  {
   "cell_type": "code",
   "execution_count": 19,
   "source": [
    "x = np.array([1, 2, 3, 4, 5])\n",
    "\n",
    "print(np.linalg.norm(x, 1))   # L1-norm\n",
    "print(np.linalg.norm(x, 2))   # L2-norm (i.e. vector magnitude)"
   ],
   "outputs": [
    {
     "output_type": "stream",
     "name": "stdout",
     "text": [
      "15.0\n",
      "7.416198487095663\n"
     ]
    }
   ],
   "metadata": {
    "ExecuteTime": {
     "end_time": "2021-09-24T04:15:57.552230Z",
     "start_time": "2021-09-24T04:15:57.546736Z"
    }
   }
  },
  {
   "cell_type": "markdown",
   "source": [
    "Matrix transpose"
   ],
   "metadata": {}
  },
  {
   "cell_type": "code",
   "execution_count": 20,
   "source": [
    "A = np.array([[2, 1, 4], \n",
    "              [5, 0, 1], \n",
    "              [3, 2, 1]])\n",
    "\n",
    "print(A.T)"
   ],
   "outputs": [
    {
     "output_type": "stream",
     "name": "stdout",
     "text": [
      "[[2 5 3]\n",
      " [1 0 2]\n",
      " [4 1 1]]\n"
     ]
    }
   ],
   "metadata": {
    "ExecuteTime": {
     "end_time": "2021-09-24T04:15:58.185069Z",
     "start_time": "2021-09-24T04:15:58.179415Z"
    }
   }
  },
  {
   "cell_type": "markdown",
   "source": [
    "Reshape a matrix"
   ],
   "metadata": {}
  },
  {
   "cell_type": "code",
   "execution_count": 21,
   "source": [
    "A = np.array([[2, 1, 4], \n",
    "              [5, 0, 1]])\n",
    "a = A.reshape((6, 1))\n",
    "\n",
    "print(a)"
   ],
   "outputs": [
    {
     "output_type": "stream",
     "name": "stdout",
     "text": [
      "[[2]\n",
      " [1]\n",
      " [4]\n",
      " [5]\n",
      " [0]\n",
      " [1]]\n"
     ]
    }
   ],
   "metadata": {
    "ExecuteTime": {
     "end_time": "2021-09-24T04:15:59.200014Z",
     "start_time": "2021-09-24T04:15:59.194329Z"
    }
   }
  },
  {
   "cell_type": "markdown",
   "source": [
    "Scalar multiplication and matrix addition"
   ],
   "metadata": {}
  },
  {
   "cell_type": "code",
   "execution_count": 22,
   "source": [
    "A = np.array([[2, 1, 4], \n",
    "              [5, 0, 1], \n",
    "              [3, 2, 1]])\n",
    "B = np.array([[1, 2, 3], \n",
    "              [4, 5, 6], \n",
    "              [7, 8, 9]])\n",
    "\n",
    "print(2 * A + B)"
   ],
   "outputs": [
    {
     "output_type": "stream",
     "name": "stdout",
     "text": [
      "[[ 5  4 11]\n",
      " [14  5  8]\n",
      " [13 12 11]]\n"
     ]
    }
   ],
   "metadata": {
    "ExecuteTime": {
     "end_time": "2021-09-24T04:16:00.566335Z",
     "start_time": "2021-09-24T04:16:00.561405Z"
    }
   }
  },
  {
   "cell_type": "markdown",
   "source": [
    "Elementwise multiplication (**not matrix multiplication**)"
   ],
   "metadata": {}
  },
  {
   "cell_type": "code",
   "execution_count": 23,
   "source": [
    "print(A * B)"
   ],
   "outputs": [
    {
     "output_type": "stream",
     "name": "stdout",
     "text": [
      "[[ 2  2 12]\n",
      " [20  0  6]\n",
      " [21 16  9]]\n"
     ]
    }
   ],
   "metadata": {
    "ExecuteTime": {
     "end_time": "2021-09-24T04:16:01.870527Z",
     "start_time": "2021-09-24T04:16:01.866234Z"
    }
   }
  },
  {
   "cell_type": "markdown",
   "source": [
    "Matrix multiplication"
   ],
   "metadata": {}
  },
  {
   "cell_type": "code",
   "execution_count": 24,
   "source": [
    "# Two different ways!\n",
    "print(A @ B)\n",
    "print()\n",
    "print(A.dot(B))"
   ],
   "outputs": [
    {
     "output_type": "stream",
     "name": "stdout",
     "text": [
      "[[34 41 48]\n",
      " [12 18 24]\n",
      " [18 24 30]]\n",
      "\n",
      "[[34 41 48]\n",
      " [12 18 24]\n",
      " [18 24 30]]\n"
     ]
    }
   ],
   "metadata": {
    "ExecuteTime": {
     "end_time": "2021-09-24T04:16:02.839293Z",
     "start_time": "2021-09-24T04:16:02.834344Z"
    }
   }
  },
  {
   "cell_type": "markdown",
   "source": [
    "Matrix inverse"
   ],
   "metadata": {}
  },
  {
   "cell_type": "code",
   "execution_count": 25,
   "source": [
    "A = np.array([[3, 1], \n",
    "              [1, 3]])\n",
    "A_inv = np.linalg.inv(A)\n",
    "\n",
    "print(A_inv)"
   ],
   "outputs": [
    {
     "output_type": "stream",
     "name": "stdout",
     "text": [
      "[[ 0.375 -0.125]\n",
      " [-0.125  0.375]]\n"
     ]
    }
   ],
   "metadata": {
    "ExecuteTime": {
     "end_time": "2021-09-24T04:16:04.136143Z",
     "start_time": "2021-09-24T04:16:04.130276Z"
    }
   }
  },
  {
   "cell_type": "code",
   "execution_count": 26,
   "source": [
    "A @ A_inv"
   ],
   "outputs": [
    {
     "output_type": "execute_result",
     "data": {
      "text/plain": [
       "array([[1., 0.],\n",
       "       [0., 1.]])"
      ]
     },
     "metadata": {},
     "execution_count": 26
    }
   ],
   "metadata": {
    "ExecuteTime": {
     "end_time": "2021-09-24T04:16:04.752708Z",
     "start_time": "2021-09-24T04:16:04.746334Z"
    }
   }
  },
  {
   "cell_type": "markdown",
   "source": [
    "Stacking matrices"
   ],
   "metadata": {}
  },
  {
   "cell_type": "code",
   "execution_count": 27,
   "source": [
    "A = np.array([[2, 1, 4], \n",
    "              [5, 0, 1]])\n",
    "B = np.array([[1, 2, 3], \n",
    "              [4, 5, 6]])"
   ],
   "outputs": [],
   "metadata": {
    "ExecuteTime": {
     "end_time": "2021-09-24T04:16:05.814320Z",
     "start_time": "2021-09-24T04:16:05.810203Z"
    }
   }
  },
  {
   "cell_type": "code",
   "execution_count": 28,
   "source": [
    "np.hstack([A, B])"
   ],
   "outputs": [
    {
     "output_type": "execute_result",
     "data": {
      "text/plain": [
       "array([[2, 1, 4, 1, 2, 3],\n",
       "       [5, 0, 1, 4, 5, 6]])"
      ]
     },
     "metadata": {},
     "execution_count": 28
    }
   ],
   "metadata": {
    "ExecuteTime": {
     "end_time": "2021-09-24T04:16:06.529062Z",
     "start_time": "2021-09-24T04:16:06.523728Z"
    }
   }
  },
  {
   "cell_type": "code",
   "execution_count": 29,
   "source": [
    "np.vstack([A, B])"
   ],
   "outputs": [
    {
     "output_type": "execute_result",
     "data": {
      "text/plain": [
       "array([[2, 1, 4],\n",
       "       [5, 0, 1],\n",
       "       [1, 2, 3],\n",
       "       [4, 5, 6]])"
      ]
     },
     "metadata": {},
     "execution_count": 29
    }
   ],
   "metadata": {
    "ExecuteTime": {
     "end_time": "2021-09-24T04:16:07.240488Z",
     "start_time": "2021-09-24T04:16:07.234255Z"
    }
   }
  },
  {
   "cell_type": "markdown",
   "source": [
    "Element-wise functions (e.g. np.log, np.exp, np.sqrt)"
   ],
   "metadata": {}
  },
  {
   "cell_type": "code",
   "execution_count": 30,
   "source": [
    "A = np.array([[1, 4, 9], \n",
    "              [16, 25, 36], \n",
    "              [49, 64, 81]])\n",
    "\n",
    "np.sqrt(A)"
   ],
   "outputs": [
    {
     "output_type": "execute_result",
     "data": {
      "text/plain": [
       "array([[1., 2., 3.],\n",
       "       [4., 5., 6.],\n",
       "       [7., 8., 9.]])"
      ]
     },
     "metadata": {},
     "execution_count": 30
    }
   ],
   "metadata": {
    "ExecuteTime": {
     "end_time": "2021-09-24T04:16:08.671657Z",
     "start_time": "2021-09-24T04:16:08.665003Z"
    }
   }
  },
  {
   "cell_type": "markdown",
   "source": [
    "Aggregate functions (e.g. np.mean, np.std, np.sum)"
   ],
   "metadata": {}
  },
  {
   "cell_type": "code",
   "execution_count": 31,
   "source": [
    "A = np.array([[1, 1, 1], \n",
    "              [2, 2, 2], \n",
    "              [3, 3, 3]])\n",
    "\n",
    "print(A.sum())          # Sum of all elements in A\n",
    "print(A.sum(axis=0))    # Sum of each column in A\n",
    "print(A.sum(axis=1))    # Sum of each row in A"
   ],
   "outputs": [
    {
     "output_type": "stream",
     "name": "stdout",
     "text": [
      "18\n",
      "[6 6 6]\n",
      "[3 6 9]\n"
     ]
    }
   ],
   "metadata": {
    "ExecuteTime": {
     "end_time": "2021-09-24T04:16:09.664061Z",
     "start_time": "2021-09-24T04:16:09.657915Z"
    }
   }
  },
  {
   "cell_type": "markdown",
   "source": [
    "### 4. Solving Systems of Linear Equations"
   ],
   "metadata": {}
  },
  {
   "cell_type": "markdown",
   "source": [
    "Consider the following system of linear equations:\n",
    "\n",
    "$$\n",
    "\\begin{aligned}\n",
    "3a + b &= 5 \\\\\n",
    "a - 5b &= 7\n",
    "\\end{aligned}\n",
    "$$\n",
    "\n",
    "We can rewrite this as the equation $A x = b$, where $A$ and $b$ are defined as follows."
   ],
   "metadata": {}
  },
  {
   "cell_type": "code",
   "execution_count": 33,
   "source": [
    "A = np.array([[3, 1], [1, -5]])\n",
    "b = np.array([5, 7])"
   ],
   "outputs": [],
   "metadata": {
    "ExecuteTime": {
     "end_time": "2021-09-24T04:16:11.503496Z",
     "start_time": "2021-09-24T04:16:11.499149Z"
    }
   }
  },
  {
   "cell_type": "markdown",
   "source": [
    "Then, we can solve for an exact solution $x$."
   ],
   "metadata": {}
  },
  {
   "cell_type": "code",
   "execution_count": 34,
   "source": [
    "# Find an exact solution x for A x = b\n",
    "x = np.linalg.solve(A, b)\n",
    "x"
   ],
   "outputs": [
    {
     "output_type": "execute_result",
     "data": {
      "text/plain": [
       "array([ 2., -1.])"
      ]
     },
     "metadata": {},
     "execution_count": 34
    }
   ],
   "metadata": {
    "ExecuteTime": {
     "end_time": "2021-09-24T04:16:12.375334Z",
     "start_time": "2021-09-24T04:16:12.369653Z"
    }
   }
  },
  {
   "cell_type": "markdown",
   "source": [
    "This is the same as $x = A^{-1} b$. But `np.linalg.solve(A, b)` is the preferred method."
   ],
   "metadata": {}
  },
  {
   "cell_type": "code",
   "execution_count": 35,
   "source": [
    "x = np.linalg.inv(A) @ b\n",
    "x"
   ],
   "outputs": [
    {
     "output_type": "execute_result",
     "data": {
      "text/plain": [
       "array([ 2., -1.])"
      ]
     },
     "metadata": {},
     "execution_count": 35
    }
   ],
   "metadata": {
    "ExecuteTime": {
     "end_time": "2021-09-24T04:16:13.287953Z",
     "start_time": "2021-09-24T04:16:13.281970Z"
    }
   }
  },
  {
   "cell_type": "markdown",
   "source": [
    "What happens when $A$ is not a square matrix? For example, consider the following \n",
    "(overdetermined) system of linear equations:\n",
    "\n",
    "$$\n",
    "\\begin{aligned}\n",
    "3a + b &= 5 \\\\\n",
    "a - 5b &= 7 \\\\\n",
    "a + b &= 0\n",
    "\\end{aligned}\n",
    "$$\n"
   ],
   "metadata": {}
  },
  {
   "cell_type": "code",
   "execution_count": 36,
   "source": [
    "A = np.array([[3, 1], [1, -5], [1, 1]])\n",
    "b = np.array([5, 7, 0])"
   ],
   "outputs": [],
   "metadata": {
    "ExecuteTime": {
     "end_time": "2021-09-24T04:16:14.493339Z",
     "start_time": "2021-09-24T04:16:14.489907Z"
    }
   }
  },
  {
   "cell_type": "markdown",
   "source": [
    "We can't use `np.linalg.solve(A, b)` since A is not square, i.e. not invertible."
   ],
   "metadata": {}
  },
  {
   "cell_type": "code",
   "execution_count": 37,
   "source": [
    "# Does not work - A not invertible\n",
    "x = np.linalg.solve(A, b)\n",
    "x"
   ],
   "outputs": [
    {
     "output_type": "error",
     "ename": "LinAlgError",
     "evalue": "Last 2 dimensions of the array must be square",
     "traceback": [
      "\u001b[0;31m---------------------------------------------------------------------------\u001b[0m",
      "\u001b[0;31mLinAlgError\u001b[0m                               Traceback (most recent call last)",
      "\u001b[0;32m<ipython-input-37-c5dffb571076>\u001b[0m in \u001b[0;36m<module>\u001b[0;34m\u001b[0m\n\u001b[1;32m      1\u001b[0m \u001b[0;31m# Does not work - A not invertible\u001b[0m\u001b[0;34m\u001b[0m\u001b[0;34m\u001b[0m\u001b[0;34m\u001b[0m\u001b[0m\n\u001b[0;32m----> 2\u001b[0;31m \u001b[0mx\u001b[0m \u001b[0;34m=\u001b[0m \u001b[0mnp\u001b[0m\u001b[0;34m.\u001b[0m\u001b[0mlinalg\u001b[0m\u001b[0;34m.\u001b[0m\u001b[0msolve\u001b[0m\u001b[0;34m(\u001b[0m\u001b[0mA\u001b[0m\u001b[0;34m,\u001b[0m \u001b[0mb\u001b[0m\u001b[0;34m)\u001b[0m\u001b[0;34m\u001b[0m\u001b[0;34m\u001b[0m\u001b[0m\n\u001b[0m\u001b[1;32m      3\u001b[0m \u001b[0mx\u001b[0m\u001b[0;34m\u001b[0m\u001b[0;34m\u001b[0m\u001b[0m\n",
      "\u001b[0;32m<__array_function__ internals>\u001b[0m in \u001b[0;36msolve\u001b[0;34m(*args, **kwargs)\u001b[0m\n",
      "\u001b[0;32m~/opt/anaconda3/lib/python3.8/site-packages/numpy/linalg/linalg.py\u001b[0m in \u001b[0;36msolve\u001b[0;34m(a, b)\u001b[0m\n\u001b[1;32m    384\u001b[0m     \u001b[0ma\u001b[0m\u001b[0;34m,\u001b[0m \u001b[0m_\u001b[0m \u001b[0;34m=\u001b[0m \u001b[0m_makearray\u001b[0m\u001b[0;34m(\u001b[0m\u001b[0ma\u001b[0m\u001b[0;34m)\u001b[0m\u001b[0;34m\u001b[0m\u001b[0;34m\u001b[0m\u001b[0m\n\u001b[1;32m    385\u001b[0m     \u001b[0m_assert_stacked_2d\u001b[0m\u001b[0;34m(\u001b[0m\u001b[0ma\u001b[0m\u001b[0;34m)\u001b[0m\u001b[0;34m\u001b[0m\u001b[0;34m\u001b[0m\u001b[0m\n\u001b[0;32m--> 386\u001b[0;31m     \u001b[0m_assert_stacked_square\u001b[0m\u001b[0;34m(\u001b[0m\u001b[0ma\u001b[0m\u001b[0;34m)\u001b[0m\u001b[0;34m\u001b[0m\u001b[0;34m\u001b[0m\u001b[0m\n\u001b[0m\u001b[1;32m    387\u001b[0m     \u001b[0mb\u001b[0m\u001b[0;34m,\u001b[0m \u001b[0mwrap\u001b[0m \u001b[0;34m=\u001b[0m \u001b[0m_makearray\u001b[0m\u001b[0;34m(\u001b[0m\u001b[0mb\u001b[0m\u001b[0;34m)\u001b[0m\u001b[0;34m\u001b[0m\u001b[0;34m\u001b[0m\u001b[0m\n\u001b[1;32m    388\u001b[0m     \u001b[0mt\u001b[0m\u001b[0;34m,\u001b[0m \u001b[0mresult_t\u001b[0m \u001b[0;34m=\u001b[0m \u001b[0m_commonType\u001b[0m\u001b[0;34m(\u001b[0m\u001b[0ma\u001b[0m\u001b[0;34m,\u001b[0m \u001b[0mb\u001b[0m\u001b[0;34m)\u001b[0m\u001b[0;34m\u001b[0m\u001b[0;34m\u001b[0m\u001b[0m\n",
      "\u001b[0;32m~/opt/anaconda3/lib/python3.8/site-packages/numpy/linalg/linalg.py\u001b[0m in \u001b[0;36m_assert_stacked_square\u001b[0;34m(*arrays)\u001b[0m\n\u001b[1;32m    211\u001b[0m         \u001b[0mm\u001b[0m\u001b[0;34m,\u001b[0m \u001b[0mn\u001b[0m \u001b[0;34m=\u001b[0m \u001b[0ma\u001b[0m\u001b[0;34m.\u001b[0m\u001b[0mshape\u001b[0m\u001b[0;34m[\u001b[0m\u001b[0;34m-\u001b[0m\u001b[0;36m2\u001b[0m\u001b[0;34m:\u001b[0m\u001b[0;34m]\u001b[0m\u001b[0;34m\u001b[0m\u001b[0;34m\u001b[0m\u001b[0m\n\u001b[1;32m    212\u001b[0m         \u001b[0;32mif\u001b[0m \u001b[0mm\u001b[0m \u001b[0;34m!=\u001b[0m \u001b[0mn\u001b[0m\u001b[0;34m:\u001b[0m\u001b[0;34m\u001b[0m\u001b[0;34m\u001b[0m\u001b[0m\n\u001b[0;32m--> 213\u001b[0;31m             \u001b[0;32mraise\u001b[0m \u001b[0mLinAlgError\u001b[0m\u001b[0;34m(\u001b[0m\u001b[0;34m'Last 2 dimensions of the array must be square'\u001b[0m\u001b[0;34m)\u001b[0m\u001b[0;34m\u001b[0m\u001b[0;34m\u001b[0m\u001b[0m\n\u001b[0m\u001b[1;32m    214\u001b[0m \u001b[0;34m\u001b[0m\u001b[0m\n\u001b[1;32m    215\u001b[0m \u001b[0;32mdef\u001b[0m \u001b[0m_assert_finite\u001b[0m\u001b[0;34m(\u001b[0m\u001b[0;34m*\u001b[0m\u001b[0marrays\u001b[0m\u001b[0;34m)\u001b[0m\u001b[0;34m:\u001b[0m\u001b[0;34m\u001b[0m\u001b[0;34m\u001b[0m\u001b[0m\n",
      "\u001b[0;31mLinAlgError\u001b[0m: Last 2 dimensions of the array must be square"
     ]
    }
   ],
   "metadata": {
    "ExecuteTime": {
     "end_time": "2021-09-24T04:16:15.524058Z",
     "start_time": "2021-09-24T04:16:15.360919Z"
    },
    "scrolled": false
   }
  },
  {
   "cell_type": "markdown",
   "source": [
    "Instead, we can find a least squares approximate solution for $x$."
   ],
   "metadata": {}
  },
  {
   "cell_type": "code",
   "execution_count": 38,
   "source": [
    "# Find an approximate solution x for A x = b using least squares.\n",
    "x, resid, rank, s = np.linalg.lstsq(A, b)\n",
    "x"
   ],
   "outputs": [
    {
     "output_type": "stream",
     "name": "stderr",
     "text": [
      "<ipython-input-38-a23de93341b9>:2: FutureWarning: `rcond` parameter will change to the default of machine precision times ``max(M, N)`` where M and N are the input matrix dimensions.\n",
      "To use the future default and silence this warning we advise to pass `rcond=None`, to keep using the old, explicitly pass `rcond=-1`.\n",
      "  x, resid, rank, s = np.linalg.lstsq(A, b)\n"
     ]
    },
    {
     "output_type": "execute_result",
     "data": {
      "text/plain": [
       "array([ 1.90540541, -1.04054054])"
      ]
     },
     "metadata": {},
     "execution_count": 38
    }
   ],
   "metadata": {
    "ExecuteTime": {
     "end_time": "2021-09-24T04:16:17.088404Z",
     "start_time": "2021-09-24T04:16:17.081482Z"
    }
   }
  },
  {
   "cell_type": "markdown",
   "source": [
    "Estimates for $b$ using least squares approx. for $x$."
   ],
   "metadata": {}
  },
  {
   "cell_type": "code",
   "execution_count": 41,
   "source": [
    "A @ x"
   ],
   "outputs": [
    {
     "output_type": "execute_result",
     "data": {
      "text/plain": [
       "array([4.67567568, 7.10810811, 0.86486486])"
      ]
     },
     "metadata": {},
     "execution_count": 41
    }
   ],
   "metadata": {
    "ExecuteTime": {
     "end_time": "2021-09-24T04:16:19.118044Z",
     "start_time": "2021-09-24T04:16:19.112725Z"
    }
   }
  },
  {
   "cell_type": "code",
   "execution_count": 42,
   "source": [
    "b"
   ],
   "outputs": [
    {
     "output_type": "execute_result",
     "data": {
      "text/plain": [
       "array([5, 7, 0])"
      ]
     },
     "metadata": {},
     "execution_count": 42
    }
   ],
   "metadata": {
    "ExecuteTime": {
     "end_time": "2021-09-24T04:16:20.335490Z",
     "start_time": "2021-09-24T04:16:20.329867Z"
    }
   }
  },
  {
   "cell_type": "markdown",
   "source": [
    "### 5. Broadcasting"
   ],
   "metadata": {}
  },
  {
   "cell_type": "markdown",
   "source": [
    "Consider the following matrix $A$."
   ],
   "metadata": {}
  },
  {
   "cell_type": "code",
   "execution_count": 43,
   "source": [
    "A = np.array([[1, 2, 3], \n",
    "              [4, 5, 6]])\n",
    "\n",
    "print(A)"
   ],
   "outputs": [
    {
     "output_type": "stream",
     "name": "stdout",
     "text": [
      "[[1 2 3]\n",
      " [4 5 6]]\n"
     ]
    }
   ],
   "metadata": {
    "ExecuteTime": {
     "end_time": "2021-09-24T04:16:23.414491Z",
     "start_time": "2021-09-24T04:16:23.410030Z"
    }
   }
  },
  {
   "cell_type": "markdown",
   "source": [
    "Imagine that you want to add 2 to each element of the matrix above. One way to do it is the following."
   ],
   "metadata": {}
  },
  {
   "cell_type": "code",
   "execution_count": 44,
   "source": [
    "B = np.array([[2, 2, 2], \n",
    "              [2, 2, 2]])\n",
    "\n",
    "A + B"
   ],
   "outputs": [
    {
     "output_type": "execute_result",
     "data": {
      "text/plain": [
       "array([[3, 4, 5],\n",
       "       [6, 7, 8]])"
      ]
     },
     "metadata": {},
     "execution_count": 44
    }
   ],
   "metadata": {
    "ExecuteTime": {
     "end_time": "2021-09-24T04:16:24.352186Z",
     "start_time": "2021-09-24T04:16:24.346157Z"
    }
   }
  },
  {
   "cell_type": "markdown",
   "source": [
    "However, a cleaner way to write this would be to simply do `A + 2`. This is a NumPy feature known as **broadcasting**, which automatically resizes arrays in the most natural way to perform an operation."
   ],
   "metadata": {}
  },
  {
   "cell_type": "code",
   "execution_count": 45,
   "source": [
    "A + 2"
   ],
   "outputs": [
    {
     "output_type": "execute_result",
     "data": {
      "text/plain": [
       "array([[3, 4, 5],\n",
       "       [6, 7, 8]])"
      ]
     },
     "metadata": {},
     "execution_count": 45
    }
   ],
   "metadata": {
    "ExecuteTime": {
     "end_time": "2021-09-24T04:16:26.710588Z",
     "start_time": "2021-09-24T04:16:26.705381Z"
    }
   }
  },
  {
   "cell_type": "markdown",
   "source": [
    "Broadcasting can be applied in interesting ways. Here, we subtract off the mean from each column of A. This works even though A has dimension (2, 3) and the means have dimension (3,)."
   ],
   "metadata": {}
  },
  {
   "cell_type": "code",
   "execution_count": 47,
   "source": [
    "means = A.mean(axis=0)\n",
    "means"
   ],
   "outputs": [
    {
     "output_type": "execute_result",
     "data": {
      "text/plain": [
       "array([2.5, 3.5, 4.5])"
      ]
     },
     "metadata": {},
     "execution_count": 47
    }
   ],
   "metadata": {
    "scrolled": true
   }
  },
  {
   "cell_type": "code",
   "execution_count": 48,
   "source": [
    "A"
   ],
   "outputs": [
    {
     "output_type": "execute_result",
     "data": {
      "text/plain": [
       "array([[1, 2, 3],\n",
       "       [4, 5, 6]])"
      ]
     },
     "metadata": {},
     "execution_count": 48
    }
   ],
   "metadata": {}
  },
  {
   "cell_type": "code",
   "execution_count": 49,
   "source": [
    "print(\"Dimension of A:\", A.shape)\n",
    "print(\"Dimension of means:\", means.shape)\n",
    "\n",
    "A - means"
   ],
   "outputs": [
    {
     "output_type": "stream",
     "name": "stdout",
     "text": [
      "Dimension of A: (2, 3)\n",
      "Dimension of means: (3,)\n"
     ]
    },
    {
     "output_type": "execute_result",
     "data": {
      "text/plain": [
       "array([[-1.5, -1.5, -1.5],\n",
       "       [ 1.5,  1.5,  1.5]])"
      ]
     },
     "metadata": {},
     "execution_count": 49
    }
   ],
   "metadata": {
    "ExecuteTime": {
     "end_time": "2021-09-24T04:16:27.801549Z",
     "start_time": "2021-09-24T04:16:27.793575Z"
    }
   }
  },
  {
   "cell_type": "markdown",
   "source": [
    "### 6. Vectorization"
   ],
   "metadata": {}
  },
  {
   "cell_type": "markdown",
   "source": [
    "One of the key principles when using NumPy is to *vectorize your code*. Vectorizing your code means to favor matrix/vector operations over for-loops. Vectorizing code has two main benefits:\n",
    "- Vectorized code uses optimized NumPy operations, which makes it faster.\n",
    "- Vectorized code is cleaner and easier to read than code with for-loops.\n",
    "\n",
    "Next, we consider two examples of writing vectorized code."
   ],
   "metadata": {}
  },
  {
   "cell_type": "markdown",
   "source": [
    "### Example 1: Standardization"
   ],
   "metadata": {}
  },
  {
   "cell_type": "markdown",
   "source": [
    "Transform the matrix $X$ so that each column is scaled to have a mean of 0 and variance of 1."
   ],
   "metadata": {}
  },
  {
   "cell_type": "code",
   "execution_count": 50,
   "source": [
    "X = np.random.normal(loc=10, scale=5, size=(1000000, 5))\n",
    "print(X.shape)\n",
    "X"
   ],
   "outputs": [
    {
     "output_type": "stream",
     "name": "stdout",
     "text": [
      "(1000000, 5)\n"
     ]
    },
    {
     "output_type": "execute_result",
     "data": {
      "text/plain": [
       "array([[ 5.1136106 , 14.75044209,  9.24321396,  9.48390574, 12.05299251],\n",
       "       [10.72021786, 17.27136753, 13.80518863, 10.60837508, 12.21931616],\n",
       "       [11.66837164, 17.47039537,  8.97420868, 11.56533851,  5.7295213 ],\n",
       "       ...,\n",
       "       [ 9.9971008 , 18.13280508, 17.41275096, 14.99774744,  7.15303818],\n",
       "       [ 9.53328679,  6.05434569, 11.01390011, 13.53464124, 13.65750743],\n",
       "       [15.54076189, 12.90572447, 12.81896665,  2.90401069,  9.23462747]])"
      ]
     },
     "metadata": {},
     "execution_count": 50
    }
   ],
   "metadata": {
    "ExecuteTime": {
     "end_time": "2021-09-24T04:16:52.873718Z",
     "start_time": "2021-09-24T04:16:52.634818Z"
    }
   }
  },
  {
   "cell_type": "markdown",
   "source": [
    "#### Method 1: Using for-loops (bad!)"
   ],
   "metadata": {}
  },
  {
   "cell_type": "code",
   "execution_count": 51,
   "source": [
    "X_ = []\n",
    "\n",
    "for col in X.T:\n",
    "    col_mean = col.mean()\n",
    "    col_std_dev = col.std()\n",
    "    col_standardized = []\n",
    "    for elem in col:\n",
    "        elem_standardized = (elem - col_mean) / col_std_dev\n",
    "        col_standardized.append(elem_standardized)\n",
    "    X_.append(col_standardized)\n",
    "    \n",
    "X_ = np.array(X_).T"
   ],
   "outputs": [],
   "metadata": {
    "ExecuteTime": {
     "end_time": "2021-09-24T04:17:01.232506Z",
     "start_time": "2021-09-24T04:16:58.657290Z"
    }
   }
  },
  {
   "cell_type": "code",
   "execution_count": 52,
   "source": [
    "X_.mean(axis=0)"
   ],
   "outputs": [
    {
     "output_type": "execute_result",
     "data": {
      "text/plain": [
       "array([-1.52919455e-16,  7.49484919e-16, -2.20587992e-16,  6.00337557e-16,\n",
       "        1.18929933e-15])"
      ]
     },
     "metadata": {},
     "execution_count": 52
    }
   ],
   "metadata": {
    "ExecuteTime": {
     "end_time": "2021-09-24T04:17:02.226394Z",
     "start_time": "2021-09-24T04:17:02.217436Z"
    }
   }
  },
  {
   "cell_type": "code",
   "execution_count": 53,
   "source": [
    "X_.std(axis=0)"
   ],
   "outputs": [
    {
     "output_type": "execute_result",
     "data": {
      "text/plain": [
       "array([1., 1., 1., 1., 1.])"
      ]
     },
     "metadata": {},
     "execution_count": 53
    }
   ],
   "metadata": {
    "ExecuteTime": {
     "end_time": "2021-09-24T04:17:03.099320Z",
     "start_time": "2021-09-24T04:17:03.049702Z"
    }
   }
  },
  {
   "cell_type": "markdown",
   "source": [
    "#### Method 2: Vectorized (good!)"
   ],
   "metadata": {}
  },
  {
   "cell_type": "code",
   "execution_count": 54,
   "source": [
    "means = X.mean(axis=0)\n",
    "std_devs = X.std(axis=0)\n",
    "X_ = (X - means) / std_devs"
   ],
   "outputs": [],
   "metadata": {
    "ExecuteTime": {
     "end_time": "2021-09-24T04:17:07.311558Z",
     "start_time": "2021-09-24T04:17:07.135722Z"
    }
   }
  },
  {
   "cell_type": "code",
   "execution_count": 55,
   "source": [
    "X_.mean(axis=0)"
   ],
   "outputs": [
    {
     "output_type": "execute_result",
     "data": {
      "text/plain": [
       "array([-8.69544214e-16,  2.63216080e-14,  1.47286264e-14,  1.02035245e-14,\n",
       "        5.95118000e-14])"
      ]
     },
     "metadata": {},
     "execution_count": 55
    }
   ],
   "metadata": {
    "ExecuteTime": {
     "end_time": "2021-09-24T04:17:29.722033Z",
     "start_time": "2021-09-24T04:17:29.695487Z"
    }
   }
  },
  {
   "cell_type": "code",
   "execution_count": 56,
   "source": [
    "X_.std(axis=0)"
   ],
   "outputs": [
    {
     "output_type": "execute_result",
     "data": {
      "text/plain": [
       "array([1., 1., 1., 1., 1.])"
      ]
     },
     "metadata": {},
     "execution_count": 56
    }
   ],
   "metadata": {
    "ExecuteTime": {
     "end_time": "2021-09-24T04:17:31.192159Z",
     "start_time": "2021-09-24T04:17:31.110351Z"
    }
   }
  },
  {
   "cell_type": "markdown",
   "source": [
    "### Example 2: Calculating distances"
   ],
   "metadata": {}
  },
  {
   "cell_type": "markdown",
   "source": [
    "Consider a matrix $X$ in which each row is a data point. Compute a vector of distances $d$ between a query point $q$ and each row in $X$."
   ],
   "metadata": {}
  },
  {
   "cell_type": "code",
   "execution_count": 57,
   "source": [
    "X = np.random.normal(loc=10, scale=5, size=(1000000, 5))\n",
    "\n",
    "print(X.shape)\n",
    "print(\"X:\", X)\n",
    "\n",
    "q = np.random.normal(loc=10, scale=5, size=(5))\n",
    "print()\n",
    "print(\"q:\", q)"
   ],
   "outputs": [
    {
     "output_type": "stream",
     "name": "stdout",
     "text": [
      "(1000000, 5)\n",
      "X: [[16.35577994 18.21976161  7.22089774  7.02746228  9.70531142]\n",
      " [15.11751176  9.33139481  4.90321699 14.79060652  6.82461619]\n",
      " [16.39816041  6.39261641 11.1098338   6.9681681  22.77355086]\n",
      " ...\n",
      " [ 2.99427944 15.64614365 15.80699962 12.4209975  16.79674743]\n",
      " [12.95105478 12.33807913  0.27642579  8.28007395  6.29905234]\n",
      " [12.31721264  4.40982302  6.16580666 13.03820627 13.75204579]]\n",
      "\n",
      "q: [12.61239285 15.29941374  7.98994642  8.94104771  9.13684929]\n"
     ]
    }
   ],
   "metadata": {
    "ExecuteTime": {
     "end_time": "2021-09-24T04:17:35.598547Z",
     "start_time": "2021-09-24T04:17:35.406200Z"
    }
   }
  },
  {
   "cell_type": "markdown",
   "source": [
    "#### Method 1: Using for-loops (bad!)\n",
    "\n",
    "This code works, but it's ugly and takes a long time to run."
   ],
   "metadata": {}
  },
  {
   "cell_type": "code",
   "execution_count": 58,
   "source": [
    "d = []\n",
    "\n",
    "for x in X:\n",
    "    sum_squared_diffs = 0\n",
    "    for i in range(5):\n",
    "        squared_diff = (x[i] - q[i]) ** 2\n",
    "        sum_squared_diffs += squared_diff\n",
    "    distance_x_to_q = sum_squared_diffs ** (1/2)\n",
    "    d.append(distance_x_to_q)\n",
    "\n",
    "d = np.array(d)\n",
    "print(d.shape)\n",
    "d"
   ],
   "outputs": [
    {
     "output_type": "stream",
     "name": "stdout",
     "text": [
      "(1000000,)\n"
     ]
    },
    {
     "output_type": "execute_result",
     "data": {
      "text/plain": [
       "array([ 5.20747279,  9.5385811 , 17.12450454, ..., 14.98394935,\n",
       "        8.76770055, 12.65245234])"
      ]
     },
     "metadata": {},
     "execution_count": 58
    }
   ],
   "metadata": {
    "ExecuteTime": {
     "end_time": "2021-09-24T04:17:44.661768Z",
     "start_time": "2021-09-24T04:17:39.069840Z"
    }
   }
  },
  {
   "cell_type": "markdown",
   "source": [
    "#### Method 2: Vectorized (good!)\n",
    "\n",
    "Write vectorized code that's clean and fast!"
   ],
   "metadata": {}
  },
  {
   "cell_type": "code",
   "execution_count": 60,
   "source": [
    "### Your turn!"
   ],
   "outputs": [],
   "metadata": {
    "ExecuteTime": {
     "end_time": "2021-09-24T04:14:55.091479Z",
     "start_time": "2021-09-24T04:14:53.983Z"
    }
   }
  },
  {
   "cell_type": "code",
   "execution_count": null,
   "source": [],
   "outputs": [],
   "metadata": {}
  }
 ],
 "metadata": {
  "kernelspec": {
   "name": "python3",
   "display_name": "Python 3.8.5 64-bit ('mypy3': conda)"
  },
  "language_info": {
   "codemirror_mode": {
    "name": "ipython",
    "version": 3
   },
   "file_extension": ".py",
   "mimetype": "text/x-python",
   "name": "python",
   "nbconvert_exporter": "python",
   "pygments_lexer": "ipython3",
   "version": "3.8.5"
  },
  "interpreter": {
   "hash": "29bbd9f7e8d74326f25aabdb08dab31a3fd1bcd32683e050115caf279f9eeb9e"
  }
 },
 "nbformat": 4,
 "nbformat_minor": 5
}